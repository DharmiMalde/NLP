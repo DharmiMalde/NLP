{
  "nbformat": 4,
  "nbformat_minor": 0,
  "metadata": {
    "colab": {
      "provenance": []
    },
    "kernelspec": {
      "name": "python3",
      "display_name": "Python 3"
    },
    "language_info": {
      "name": "python"
    }
  },
  "cells": [
    {
      "cell_type": "code",
      "execution_count": null,
      "metadata": {
        "id": "wxD1_1L3hPGF"
      },
      "outputs": [],
      "source": [
        "import json\n",
        "import re\n",
        "import numpy as np\n",
        "from collections import Counter\n",
        "from sklearn.preprocessing import normalize\n",
        "from tqdm import tqdm\n",
        "from multiprocessing import Pool, cpu_count\n",
        "import h5py\n",
        "from scipy.sparse import lil_matrix\n",
        "from numba import jit"
      ]
    },
    {
      "cell_type": "code",
      "source": [
        "with open('/content/drive/MyDrive/NLP/clean_text_ext.json', 'r') as file:\n",
        "    data = json.load(file)"
      ],
      "metadata": {
        "id": "uE1F6_wRiQqU"
      },
      "execution_count": null,
      "outputs": []
    },
    {
      "cell_type": "code",
      "source": [
        "def tokenize_value(value):\n",
        "    return re.findall(r'\\b\\w+\\b', value.lower())"
      ],
      "metadata": {
        "id": "vxa_0rV6p4Bo"
      },
      "execution_count": null,
      "outputs": []
    },
    {
      "cell_type": "code",
      "source": [
        "def process_values_in_chunks(values_chunk):\n",
        "    word_counter = Counter()\n",
        "    for value in values_chunk:\n",
        "        tokens = tokenize_value(value)\n",
        "        word_counter.update(tokens)\n",
        "    return word_counter"
      ],
      "metadata": {
        "id": "wj7IzHM3qCZB"
      },
      "execution_count": null,
      "outputs": []
    },
    {
      "cell_type": "code",
      "source": [
        "def clean_value(value, top_vocab_set):\n",
        "    tokens = tokenize_value(value)\n",
        "    cleaned_tokens = [token for token in tokens if token in top_vocab_set]\n",
        "    return ' '.join(cleaned_tokens)"
      ],
      "metadata": {
        "id": "o0SPCFqMqDNV"
      },
      "execution_count": null,
      "outputs": []
    },
    {
      "cell_type": "code",
      "source": [
        "def clean_dictionary_and_get_top_vocab(input_dict, n_vocab=7000, n_chunks=50):\n",
        "    values_list = list(input_dict.values())\n",
        "\n",
        "    def chunkify(lst, n):\n",
        "        chunk_size = len(lst) // n\n",
        "        return [lst[i * chunk_size:(i + 1) * chunk_size] for i in range(n)] + [lst[n * chunk_size:]]\n",
        "\n",
        "    chunks = chunkify(values_list, n_chunks)\n",
        "\n",
        "    with Pool(cpu_count()) as pool:\n",
        "        results = list(tqdm(pool.imap(process_values_in_chunks, chunks), total=n_chunks, desc=\"Counting word frequencies\"))\n",
        "\n",
        "    final_word_counter = Counter()\n",
        "    for result in results:\n",
        "        final_word_counter.update(result)\n",
        "\n",
        "    most_common_words = [word for word, _ in final_word_counter.most_common(n_vocab)]\n",
        "    top_vocab_set = set(most_common_words)  # Set for quick lookup\n",
        "\n",
        "    cleaned_dict = {}\n",
        "    for key, value in tqdm(input_dict.items(), desc=\"Cleaning dictionary\"):\n",
        "        cleaned_value = clean_value(value, top_vocab_set)\n",
        "        cleaned_dict[key] = cleaned_value\n",
        "\n",
        "    return most_common_words, cleaned_dict"
      ],
      "metadata": {
        "id": "i3rRFSp-qHYg"
      },
      "execution_count": null,
      "outputs": []
    },
    {
      "cell_type": "code",
      "source": [
        "top_7k_vocab, cleaned_dict = clean_dictionary_and_get_top_vocab(data, n_vocab=7000, n_chunks=50)"
      ],
      "metadata": {
        "colab": {
          "base_uri": "https://localhost:8080/"
        },
        "id": "Xy5jaiGBqnhp",
        "outputId": "4a378b9f-db97-4a04-8f4d-b4a892f942b9"
      },
      "execution_count": null,
      "outputs": [
        {
          "output_type": "stream",
          "name": "stderr",
          "text": [
            "Counting word frequencies: 51it [02:08,  2.51s/it]                        \n",
            "Cleaning dictionary: 100%|██████████| 56528/56528 [02:10<00:00, 434.01it/s]\n"
          ]
        }
      ]
    },
    {
      "cell_type": "code",
      "source": [
        "print(\"Top 7K Vocabulary:\", top_7k_vocab[:10])"
      ],
      "metadata": {
        "colab": {
          "base_uri": "https://localhost:8080/"
        },
        "id": "nUy6BgCFrB4U",
        "outputId": "bcc95125-d0a5-4a1c-fb68-beaa86a86980"
      },
      "execution_count": null,
      "outputs": [
        {
          "output_type": "stream",
          "name": "stdout",
          "text": [
            "Top 7K Vocabulary: ['patients', 'covid', 'et', 'cells', 'al', 'virus', 'infection', 'study', 'disease', 'also']\n"
          ]
        }
      ]
    },
    {
      "cell_type": "code",
      "source": [
        "import pickle"
      ],
      "metadata": {
        "id": "GIO2qFGWyN2F"
      },
      "execution_count": null,
      "outputs": []
    },
    {
      "cell_type": "code",
      "source": [
        "with open('/content/my_list.pkl', 'wb') as f:\n",
        "    pickle.dump(top_7k_vocab, f)"
      ],
      "metadata": {
        "id": "NuhRNIdwx8GF"
      },
      "execution_count": null,
      "outputs": []
    },
    {
      "cell_type": "code",
      "source": [
        "def tokenize(text):\n",
        "    return re.findall(r'\\b\\w+\\b', text.lower())"
      ],
      "metadata": {
        "id": "bVwwaTvQZFkq"
      },
      "execution_count": null,
      "outputs": []
    },
    {
      "cell_type": "code",
      "source": [
        "vocab_index = {word: idx for idx, word in enumerate(top_7k_vocab)}"
      ],
      "metadata": {
        "id": "pzVES70Za_PN"
      },
      "execution_count": null,
      "outputs": []
    },
    {
      "cell_type": "code",
      "source": [
        "vocab_size = len(top_7k_vocab)"
      ],
      "metadata": {
        "id": "HvjrOTarbVHi"
      },
      "execution_count": null,
      "outputs": []
    },
    {
      "cell_type": "code",
      "source": [
        "cooccurrence_matrix = lil_matrix((vocab_size, vocab_size), dtype=np.int32)"
      ],
      "metadata": {
        "id": "toNaOAKIa_6g"
      },
      "execution_count": null,
      "outputs": []
    },
    {
      "cell_type": "code",
      "source": [
        "for key, text in tqdm(cleaned_dict.items(), desc=\"Processing Keys\"):\n",
        "    tokens = tokenize(text)\n",
        "    token_length = len(tokens)\n",
        "\n",
        "    # Loop through tokens with a context window\n",
        "    for i in range(token_length):\n",
        "        if tokens[i] in vocab_index:\n",
        "            target_index = vocab_index[tokens[i]]\n",
        "            # Determine the range of context\n",
        "            start = max(0, i - 4)  # context window of 4\n",
        "            end = min(token_length, i + 4 + 1)  # +1 because the end is exclusive\n",
        "\n",
        "            for j in range(start, end):\n",
        "                if i != j and tokens[j] in vocab_index:  # skip the target token\n",
        "                    context_index = vocab_index[tokens[j]]\n",
        "                    cooccurrence_matrix[target_index, context_index] += 1"
      ],
      "metadata": {
        "colab": {
          "base_uri": "https://localhost:8080/"
        },
        "id": "qIU08pohbUDM",
        "outputId": "042519a0-dd6b-4ee4-8cc4-52d1898bd1a2"
      },
      "execution_count": null,
      "outputs": [
        {
          "output_type": "stream",
          "name": "stderr",
          "text": [
            "Processing Keys: 100%|██████████| 56528/56528 [4:27:38<00:00,  3.52it/s]\n"
          ]
        }
      ]
    },
    {
      "cell_type": "code",
      "source": [
        "cooccurrence_matrix = cooccurrence_matrix.tocsr()\n",
        "\n",
        "with h5py.File('cooccurrence_matrix.h5', 'w') as hdf:\n",
        "    hdf.create_dataset('cooccurrence_matrix', data=cooccurrence_matrix.toarray())"
      ],
      "metadata": {
        "id": "SaWnnLvxybmQ"
      },
      "execution_count": null,
      "outputs": []
    },
    {
      "cell_type": "code",
      "source": [
        "def calc_weight_mat(dim, freq_mat):\n",
        "    \"\"\"Calculates the weight matrix by normalizing each row of the frequency matrix.\n",
        "    For each word (row), it divides the co-occurrence counts by the row sum, resulting\n",
        "    in probabilities of co-occurrence. \"\"\"\n",
        "    weight_mat = np.zeros((dim, dim), dtype=float)\n",
        "    row_sums = np.sum(freq_mat, axis=1)\n",
        "\n",
        "    for i in tqdm(range(dim)):\n",
        "        if row_sums[i] != 0:  # Avoid division by zero\n",
        "            weight_mat[i, :] = freq_mat[i, :] / row_sums[i]\n",
        "    return weight_mat\n",
        "\n",
        "def calc_co_occur_mat(dim, weight_mat):\n",
        "    \"\"\"This function calculates a co-occurrence matrix using the weight matrix.\n",
        "    It identifies the context word with the highest probability (k) and computes\n",
        "    the weighted co-occurrence score between words.    \"\"\"\n",
        "    co_mat = np.zeros((dim, dim), dtype=float)\n",
        "\n",
        "    for j in tqdm(range(dim)):\n",
        "        k = np.argmax(weight_mat[j, :])\n",
        "        for i in range(dim):\n",
        "            num = weight_mat[i, k]\n",
        "            deno = weight_mat[j, k]\n",
        "            if deno != 0:\n",
        "                co_mat[i, j] = num / deno\n",
        "    return co_mat"
      ],
      "metadata": {
        "id": "wXPkUPqpnM5S"
      },
      "execution_count": null,
      "outputs": []
    },
    {
      "cell_type": "code",
      "source": [
        "# Load the co-occurrence matrix from HDF5\n",
        "ramped_file_path = '/content/drive/MyDrive/NLP/cooccurrence_matrix.h5'\n",
        "\n",
        "with h5py.File(ramped_file_path, 'r') as f:\n",
        "    cooccurrence_matrix = np.array(f['cooccurrence_matrix'])\n",
        "\n",
        "# Get the dimension of the matrix\n",
        "dim = cooccurrence_matrix.shape[0]\n",
        "\n",
        "# Calculate the weight matrix from the co-occurrence matrix\n",
        "weight_matrix = calc_weight_mat(dim, cooccurrence_matrix)\n",
        "\n",
        "# Calculate the co-occurrence matrix from the weight matrix\n",
        "result_co_occur_matrix = calc_co_occur_mat(dim, weight_matrix)\n",
        "\n",
        "# Save the resulting co-occurrence matrix to a file\n",
        "with h5py.File('prob_cooccurrence_matrix.h5', 'w') as f:\n",
        "     f.create_dataset('co_occurrence', data=result_co_occur_matrix)"
      ],
      "metadata": {
        "colab": {
          "base_uri": "https://localhost:8080/"
        },
        "id": "oUmvlNqWS0il",
        "outputId": "a637b00a-b089-4247-fd28-1b33debd638c"
      },
      "execution_count": null,
      "outputs": [
        {
          "output_type": "stream",
          "name": "stderr",
          "text": [
            "100%|██████████| 7000/7000 [00:00<00:00, 10156.65it/s]\n",
            "100%|██████████| 7000/7000 [00:58<00:00, 118.95it/s]\n"
          ]
        }
      ]
    },
    {
      "cell_type": "code",
      "source": [
        "import nltk\n",
        "\n",
        "# Download necessary data for POS tagging\n",
        "nltk.download('averaged_perceptron_tagger')\n",
        "\n",
        "# Function to find the POS tag\n",
        "def get_pos(word):\n",
        "    pos_tag = nltk.pos_tag([word])[0][1]  # Get the POS tag using NLTK\n",
        "    return pos_tag\n",
        "\n",
        "# Initialize empty lists for nouns and verbs\n",
        "nouns = []\n",
        "verbs = []\n",
        "\n",
        "# Loop through the vocabulary until 5 nouns and 5 verbs are found\n",
        "for word in top_7k_vocab:\n",
        "    pos = get_pos(word)\n",
        "\n",
        "    # Check for nouns (POS starting with 'NN')\n",
        "    if pos.startswith('NN') and len(nouns) < 10:\n",
        "        nouns.append(word)\n",
        "\n",
        "    # Check for verbs (POS starting with 'VB')\n",
        "    elif pos.startswith('VB') and len(verbs) < 10:\n",
        "        verbs.append(word)\n",
        "\n",
        "    # Stop once we have 5 nouns and 5 verbs\n",
        "    if len(nouns) == 10 and len(verbs) == 10:\n",
        "        break\n",
        "\n",
        "print(\"First 10 Nouns:\", nouns)\n",
        "print(\"First 10 Verbs:\", verbs)\n"
      ],
      "metadata": {
        "colab": {
          "base_uri": "https://localhost:8080/"
        },
        "id": "tG_xUAZBTNdA",
        "outputId": "c11e884f-ef71-4649-abfd-e41bf3868626"
      },
      "execution_count": null,
      "outputs": [
        {
          "output_type": "stream",
          "name": "stderr",
          "text": [
            "[nltk_data] Downloading package averaged_perceptron_tagger to\n",
            "[nltk_data]     /root/nltk_data...\n",
            "[nltk_data]   Unzipping taggers/averaged_perceptron_tagger.zip.\n"
          ]
        },
        {
          "output_type": "stream",
          "name": "stdout",
          "text": [
            "First 10 Nouns: ['patients', 'covid', 'et', 'cells', 'al', 'virus', 'infection', 'study', 'disease', 'data']\n",
            "First 10 Verbs: ['using', 'used', 'associated', 'reported', 'based', 'infected', 'including', 'shown', 'compared', 'increased']\n"
          ]
        }
      ]
    },
    {
      "cell_type": "code",
      "source": [
        "import numpy as np\n",
        "from sklearn.metrics.pairwise import cosine_similarity\n",
        "\n",
        "# Define the target words for which you want to find the closest words\n",
        "target_words = ['patients', 'covid', 'et', 'cells', 'al', 'virus', 'infection', 'study', 'disease', 'also']\n",
        "\n",
        "# Find the indices of the target words in the vocabulary\n",
        "target_indices = [top_7k_vocab.index(word) for word in target_words]\n",
        "\n",
        "# Function to compute cosine similarity\n",
        "def get_closest_words(word_index, matrix, top_n=5):\n",
        "    # Get the vector of the target word\n",
        "    word_vector = matrix[word_index].reshape(1, -1)\n",
        "\n",
        "    # Compute cosine similarity between the target word and all other words\n",
        "    similarities = cosine_similarity(word_vector, matrix).flatten()\n",
        "\n",
        "    # Get the indices of the top N most similar words (excluding the word itself)\n",
        "    most_similar_indices = similarities.argsort()[-top_n-1:-1][::-1]\n",
        "\n",
        "    # Return the top N most similar words\n",
        "    return [(top_7k_vocab[i], similarities[i]) for i in most_similar_indices]\n",
        "\n",
        "# Compute the closest 5 words for each target word\n",
        "for word in target_words:\n",
        "    word_index = top_7k_vocab.index(word)\n",
        "    closest_words = get_closest_words(word_index, result_co_occur_matrix, top_n=5)\n",
        "\n",
        "    print(f\"Closest words to '{word}':\")\n",
        "    for similar_word, similarity in closest_words:\n",
        "        print(f\"{similar_word}: {similarity:.4f}\")\n",
        "    print(\"\\n\")\n"
      ],
      "metadata": {
        "colab": {
          "base_uri": "https://localhost:8080/"
        },
        "id": "z-QOyqwFWTZz",
        "outputId": "38baeaaa-002d-41d2-9634-72b927625315"
      },
      "execution_count": null,
      "outputs": [
        {
          "output_type": "stream",
          "name": "stdout",
          "text": [
            "Closest words to 'patients':\n",
            "postmortem: 0.9889\n",
            "autopsy: 0.9888\n",
            "thrombosis: 0.9879\n",
            "ct: 0.9876\n",
            "mortality: 0.9875\n",
            "\n",
            "\n",
            "Closest words to 'covid':\n",
            "outpatients: 0.9919\n",
            "comorbidities: 0.9916\n",
            "stroke: 0.9903\n",
            "among: 0.9898\n",
            "hospitalization: 0.9895\n",
            "\n",
            "\n",
            "Closest words to 'et':\n",
            "zhou: 0.9257\n",
            "zhao: 0.9247\n",
            "zhu: 0.9243\n",
            "zhang: 0.9233\n",
            "kim: 0.9229\n",
            "\n",
            "\n",
            "Closest words to 'cells':\n",
            "macrophages: 0.9944\n",
            "virusspecific: 0.9931\n",
            "immature: 0.9930\n",
            "apc: 0.9908\n",
            "cytotoxic: 0.9904\n",
            "\n",
            "\n",
            "Closest words to 'al':\n",
            "liu: 0.9328\n",
            "chen: 0.9328\n",
            "li: 0.9309\n",
            "huang: 0.9307\n",
            "xu: 0.9298\n",
            "\n",
            "\n",
            "Closest words to 'virus':\n",
            "hsv: 0.9655\n",
            "adenovirus: 0.9628\n",
            "hav: 0.9603\n",
            "canine: 0.9566\n",
            "wnv: 0.9562\n",
            "\n",
            "\n",
            "Closest words to 'infection':\n",
            "isolation: 0.9477\n",
            "circulation: 0.9388\n",
            "highly: 0.9372\n",
            "inhibitors: 0.9369\n",
            "clearance: 0.9333\n",
            "\n",
            "\n",
            "Closest words to 'study':\n",
            "referring: 0.9802\n",
            "overall: 0.9800\n",
            "procedures: 0.9790\n",
            "carefully: 0.9783\n",
            "excluding: 0.9765\n",
            "\n",
            "\n",
            "Closest words to 'disease':\n",
            "diagnosing: 0.9774\n",
            "treatments: 0.9714\n",
            "designated: 0.9705\n",
            "cure: 0.9703\n",
            "syndromes: 0.9687\n",
            "\n",
            "\n",
            "Closest words to 'also':\n",
            "therefore: 0.9858\n",
            "thus: 0.9847\n",
            "consequently: 0.9836\n",
            "indeed: 0.9831\n",
            "although: 0.9730\n",
            "\n",
            "\n"
          ]
        }
      ]
    },
    {
      "cell_type": "code",
      "source": [
        "import matplotlib.pyplot as plt\n",
        "from sklearn.preprocessing import StandardScaler\n",
        "from sklearn.manifold import MDS"
      ],
      "metadata": {
        "id": "mp6WtPYPXpUv"
      },
      "execution_count": null,
      "outputs": []
    },
    {
      "cell_type": "code",
      "source": [
        "with open('my_list.pkl', 'rb') as f:\n",
        "    top_7k_vocab = pickle.load(f)"
      ],
      "metadata": {
        "id": "Wgr6AFo9yFaM"
      },
      "execution_count": null,
      "outputs": []
    },
    {
      "cell_type": "code",
      "source": [
        "# List of words (replace with actual words from your lists)\n",
        "Medical = [\"patients\",\"infection\",\"disease\",\"treatment\",\"cases\",\"health\",\"clinical\",\"hospital\",\"mortality\",\"symptoms\" ]\n",
        "Virology = [\"covid\",\"virus\",\"sarscov\",\"viral\",\"respiratory\",\"coronavirus\",\"transmission\",\"infections\",\"influenza\",\"vaccine\"]\n",
        "Research = [\"study\",\"data\",\"results\",\"analysis\",\"methods\",\"model\",\"research\",\"protein\",\"findings\",\"review\"]\n",
        "\n",
        "#Social_Impact = [\"lockdown\", \"confinement\", \"restrictions\", \"reopening\", \"panic\"]\n",
        "#viruses = [\"ebov\",\"ebv\", \"rsv\", \"reovirus\", \"fipv\", \"wnv\",\"viral\",\"respiratory\",\"coronavirus\"]\n",
        "#Healthcare = [\"hospitals\", \"symptoms\", \"treatment\", \"testing\", \"patients\", \"protocols\",\"disease\",\"treatment\",\"cases\",\"health\"]\n",
        "# Combine all lists for easy indexing\n",
        "all_lists = [Research ,Virology ,Medical ]\n",
        "\n",
        "# Find the indices of the words in the vocabulary\n",
        "word_indices = [top_7k_vocab.index(word) for word_list in all_lists for word in word_list]\n",
        "\n",
        "# Extract the corresponding co-occurrence vectors for the selected words\n",
        "selected_vectors = cooccurrence_matrix[:, word_indices].T\n",
        "\n",
        "# Optionally, standardize the data\n",
        "scaler = StandardScaler()\n",
        "scaled_vectors = scaler.fit_transform(selected_vectors)\n",
        "\n",
        "# Perform MDS to reduce to 2 dimensions\n",
        "mds = MDS(n_components=2, random_state=42)\n",
        "reduced_vectors = mds.fit_transform(scaled_vectors)\n",
        "\n",
        "# Assign different colors for each list\n",
        "colors = ['blue', 'green', 'red']\n",
        "markers = ['o', 's', 'D']  # Different marker shapes for each list\n",
        "\n",
        "# Plot the words in 2D\n",
        "plt.figure(figsize=(10, 8))\n",
        "\n",
        "# Offset to manage different groups of words from lists\n",
        "offset = 0\n",
        "for i, word_list in enumerate(all_lists):\n",
        "    list_size = len(word_list)\n",
        "\n",
        "    # Plot the words from each list with a unique color and marker\n",
        "    plt.scatter(reduced_vectors[offset:offset + list_size, 0], reduced_vectors[offset:offset + list_size, 1],\n",
        "                color=colors[i], label=f'List {i+1}', s=100, marker=markers[i])\n",
        "\n",
        "    # Add labels for the words\n",
        "    for j, word in enumerate(word_list):\n",
        "        plt.text(reduced_vectors[offset + j, 0] + 0.02, reduced_vectors[offset + j, 1] + 0.02, word, fontsize=12)\n",
        "\n",
        "    # Update offset for the next list\n",
        "    offset += list_size\n",
        "\n",
        "# Plot customization\n",
        "plt.title('2D MDS Plot of Word Vectors from 3 Lists')\n",
        "plt.xlabel('Dimension 1')\n",
        "plt.ylabel('Dimension 2')\n",
        "plt.legend()\n",
        "plt.grid(True)\n",
        "plt.show()"
      ],
      "metadata": {
        "colab": {
          "base_uri": "https://localhost:8080/",
          "height": 773
        },
        "id": "06T74gKGgxO_",
        "outputId": "18bac1e4-1c50-48b0-cba3-0ff5c7a7b6c7"
      },
      "execution_count": null,
      "outputs": [
        {
          "output_type": "stream",
          "name": "stderr",
          "text": [
            "/usr/local/lib/python3.10/dist-packages/sklearn/manifold/_mds.py:298: FutureWarning: The default value of `normalized_stress` will change to `'auto'` in version 1.4. To suppress this warning, manually set the value of `normalized_stress`.\n",
            "  warnings.warn(\n"
          ]
        },
        {
          "output_type": "display_data",
          "data": {
            "text/plain": [
              "<Figure size 1000x800 with 1 Axes>"
            ],
            "image/png": "[encoded data removed]"
          },
          "metadata": {}
        }
      ]
    }
  ]
}